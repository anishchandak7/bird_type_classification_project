{
 "cells": [
  {
   "cell_type": "code",
   "execution_count": 1,
   "metadata": {},
   "outputs": [],
   "source": [
    "import os"
   ]
  },
  {
   "cell_type": "code",
   "execution_count": 2,
   "metadata": {},
   "outputs": [
    {
     "data": {
      "text/plain": [
       "'d:\\\\ML Projects\\\\bird_type_classification_project\\\\research'"
      ]
     },
     "execution_count": 2,
     "metadata": {},
     "output_type": "execute_result"
    }
   ],
   "source": [
    "%pwd"
   ]
  },
  {
   "cell_type": "code",
   "execution_count": 3,
   "metadata": {},
   "outputs": [],
   "source": [
    "os.chdir('../')"
   ]
  },
  {
   "cell_type": "code",
   "execution_count": 4,
   "metadata": {},
   "outputs": [
    {
     "data": {
      "text/plain": [
       "'d:\\\\ML Projects\\\\bird_type_classification_project'"
      ]
     },
     "execution_count": 4,
     "metadata": {},
     "output_type": "execute_result"
    }
   ],
   "source": [
    "%pwd"
   ]
  },
  {
   "cell_type": "code",
   "execution_count": 5,
   "metadata": {},
   "outputs": [],
   "source": [
    "from dataclasses import dataclass\n",
    "from pathlib import Path\n",
    "\n",
    "@dataclass(frozen=True)\n",
    "class TrainingConfig:\n",
    "    root_dir: Path\n",
    "    trained_model_path: Path\n",
    "    updated_base_model_path: Path\n",
    "    training_data: Path\n",
    "    validation_data: Path\n",
    "    params_epochs: int\n",
    "    params_batch_size: int\n",
    "    params_is_augmentation: bool\n",
    "    params_image_size: list\n",
    "    params_acceptable_classes: list\n",
    "\n",
    "@dataclass(frozen=True)\n",
    "class PrepareCallbacksConfig:\n",
    "    root_dir: Path\n",
    "    tensorboard_root_log_dir: Path\n",
    "    checkpoint_model_filepath: Path"
   ]
  },
  {
   "cell_type": "code",
   "execution_count": 6,
   "metadata": {},
   "outputs": [
    {
     "name": "stdout",
     "output_type": "stream",
     "text": [
      "[20-Nov-23 00:27:45: INFO: utils: Note: NumExpr detected 12 cores but \"NUMEXPR_MAX_THREADS\" not set, so enforcing safe limit of 8.]\n",
      "[20-Nov-23 00:27:45: INFO: utils: NumExpr defaulting to 8 threads.]\n"
     ]
    }
   ],
   "source": [
    "from cnnClassifier.constants import *\n",
    "from cnnClassifier.utils.common import read_yaml, create_directories\n",
    "import tensorflow as tf\n",
    "\n",
    "class ConfigurationManager:\n",
    "    def __init__(\n",
    "        self, \n",
    "        config_filepath = CONFIG_FILE_PATH,\n",
    "        params_filepath = PARAMS_FILE_PATH):\n",
    "        self.config = read_yaml(config_filepath)\n",
    "        self.params = read_yaml(params_filepath)\n",
    "        create_directories([self.config.artifacts_root])\n",
    "    \n",
    "    def get_prepare_callback_config(self) -> PrepareCallbacksConfig:\n",
    "\n",
    "        config = self.config.prepare_callbacks\n",
    "        model_ckpt_dir = os.path.dirname(config.checkpoint_model_filepath)\n",
    "        create_directories([\n",
    "            Path(model_ckpt_dir),\n",
    "            Path(config.tensorboard_root_log_dir)\n",
    "        ])\n",
    "\n",
    "        prepare_callback_config = PrepareCallbacksConfig(\n",
    "            root_dir=Path(config.root_dir),\n",
    "            tensorboard_root_log_dir=Path(config.tensorboard_root_log_dir),\n",
    "            checkpoint_model_filepath=Path(config.checkpoint_model_filepath)\n",
    "        )\n",
    "\n",
    "        return prepare_callback_config\n",
    "    \n",
    "    def get_training_config(self) -> TrainingConfig:\n",
    "        training = self.config.training\n",
    "        prepare_base_model = self.config.prepare_base_model\n",
    "        params = self.params\n",
    "        training_data = os.path.join(self.config.data_ingestion.unzip_dir, \"train\")\n",
    "        validation_data = os.path.join(self.config.data_ingestion.unzip_dir, \"valid\")\n",
    "        create_directories([\n",
    "            Path(training.root_dir)\n",
    "        ])\n",
    "\n",
    "        training_config = TrainingConfig(\n",
    "            root_dir=Path(training.root_dir),\n",
    "            trained_model_path=Path(training.trained_model_path),\n",
    "            updated_base_model_path=Path(prepare_base_model.updated_base_model_path),\n",
    "            training_data=Path(training_data),\n",
    "            validation_data = Path(validation_data),\n",
    "            params_epochs=params.EPOCHS,\n",
    "            params_batch_size=params.BATCH_SIZE,\n",
    "            params_is_augmentation=params.AUGMENTATION,\n",
    "            params_image_size=params.IMAGE_SIZE,\n",
    "            params_acceptable_classes=params.ACCEPTABLE_CLASSES\n",
    "        )\n",
    "\n",
    "        return training_config"
   ]
  },
  {
   "cell_type": "code",
   "execution_count": 7,
   "metadata": {},
   "outputs": [],
   "source": [
    "import os\n",
    "import tensorflow as tf\n",
    "import time\n",
    "\n",
    "class PrepareCallback:\n",
    "    def __init__(self, config: PrepareCallbacksConfig):\n",
    "        self.config = config\n",
    "    \n",
    "    @property\n",
    "    def _create_tb_callbacks(self):\n",
    "        timestamp = time.strftime(\"%Y-%m-%d-%H-%M-%S\")\n",
    "        tb_running_log_dir = os.path.join(\n",
    "            self.config.tensorboard_root_log_dir,\n",
    "            f\"tb_logs_at_{timestamp}\",\n",
    "        )\n",
    "        return tf.keras.callbacks.TensorBoard(log_dir=tb_running_log_dir)\n",
    "    \n",
    "\n",
    "    @property\n",
    "    def _create_ckpt_callbacks(self):\n",
    "        return tf.keras.callbacks.ModelCheckpoint(\n",
    "            filepath=self.config.checkpoint_model_filepath.__str__(),\n",
    "            save_best_only=True\n",
    "        )\n",
    "\n",
    "\n",
    "    def get_tb_ckpt_callbacks(self):\n",
    "        return [\n",
    "            self._create_tb_callbacks,\n",
    "            self._create_ckpt_callbacks\n",
    "        ]"
   ]
  },
  {
   "cell_type": "code",
   "execution_count": 10,
   "metadata": {},
   "outputs": [],
   "source": [
    "import os\n",
    "import tensorflow as tf\n",
    "import time\n",
    "from keras.preprocessing.image import ImageDataGenerator\n",
    "from cnnClassifier.utils.common import generate_dataframe\n",
    "\n",
    "class Training:\n",
    "    def __init__(self, config: TrainingConfig):\n",
    "        self.config = config\n",
    "    \n",
    "    def get_base_model(self):\n",
    "        return tf.keras.models.load_model(\n",
    "            self.config.updated_base_model_path\n",
    "        )\n",
    "    \n",
    "    def train_valid_generator(self):\n",
    "\n",
    "        train_df = generate_dataframe(\n",
    "            self.config.training_data, self.config.params_acceptable_classes\n",
    "        )\n",
    "\n",
    "        valid_df = generate_dataframe(\n",
    "            self.config.validation_data, self.config.params_acceptable_classes\n",
    "        )\n",
    "\n",
    "        generator_kwargs = dict(\n",
    "            rescale = 1./255,\n",
    "        )\n",
    "\n",
    "        dataflow_kwargs = dict(\n",
    "            x_col = 'filepath',\n",
    "            y_col = 'label',\n",
    "            target_size = self.config.params_image_size[:-1],\n",
    "            color_mode = 'rgb',\n",
    "            batch_size = self.config.params_batch_size\n",
    "        )\n",
    "\n",
    "        val_gen = ImageDataGenerator(**generator_kwargs)\n",
    "\n",
    "        if self.config.params_is_augmentation:\n",
    "            tr_gen = ImageDataGenerator(\n",
    "                rotation_range=40,\n",
    "                horizontal_flip=True,\n",
    "                width_shift_range=0.2,\n",
    "                height_shift_range=0.2,\n",
    "                shear_range=0.2,\n",
    "                zoom_range=0.2,\n",
    "                **generator_kwargs)\n",
    "        else:\n",
    "            tr_gen = ImageDataGenerator(**generator_kwargs)\n",
    "            \n",
    "        print('Valid data flow')\n",
    "        valid_gen = val_gen.flow_from_dataframe(\n",
    "            dataframe=valid_df,\n",
    "            shuffle=False,\n",
    "            **dataflow_kwargs\n",
    "        )\n",
    "        \n",
    "        print('Train data flow')\n",
    "        train_gen = tr_gen.flow_from_dataframe(\n",
    "            dataframe=train_df,\n",
    "            shuffle=True,\n",
    "            **dataflow_kwargs\n",
    "        )\n",
    "        return (train_gen, valid_gen)\n",
    "    \n",
    "    def train(self, callback_list:list):\n",
    "\n",
    "        train_gen, valid_gen = self.train_valid_generator()\n",
    "        model = self.get_base_model()\n",
    "\n",
    "        model.fit(\n",
    "            x =  train_gen,\n",
    "            verbose = 1,\n",
    "            shuffle = False,\n",
    "            epochs= self.config.params_epochs,\n",
    "            validation_data = valid_gen,\n",
    "            callbacks = callback_list,\n",
    "            use_multiprocessing=True,\n",
    "            workers=tf.data.experimental.AUTOTUNE\n",
    "        )\n",
    "\n",
    "        self.save_model(\n",
    "            path = self.config.trained_model_path,\n",
    "            model=model\n",
    "        )\n",
    "\n",
    "    @staticmethod\n",
    "    def save_model(path: Path, model: tf.keras.Model):\n",
    "        model.save(path)"
   ]
  },
  {
   "cell_type": "code",
   "execution_count": 11,
   "metadata": {},
   "outputs": [
    {
     "name": "stdout",
     "output_type": "stream",
     "text": [
      "[20-Nov-23 00:56:05: INFO: common: config\\config.yaml loaded successfully.]\n",
      "[20-Nov-23 00:56:05: INFO: common: params.yaml loaded successfully.]\n",
      "[20-Nov-23 00:56:05: INFO: common: Created directory at: artifacts]\n",
      "[20-Nov-23 00:56:05: INFO: common: Created directory at: artifacts\\prepare_callbacks\\checkpoint_dir]\n",
      "[20-Nov-23 00:56:05: INFO: common: Created directory at: artifacts\\prepare_callbacks\\tensorboard_log_dir]\n",
      "[<keras.src.callbacks.TensorBoard object at 0x00000275F02CE690>, <keras.src.callbacks.ModelCheckpoint object at 0x00000275F48533D0>]\n",
      "[20-Nov-23 00:56:05: INFO: common: Created directory at: artifacts\\training]\n",
      "Valid data flow\n",
      "Found 25 validated image filenames belonging to 5 classes.\n",
      "Train data flow\n",
      "Found 768 validated image filenames belonging to 5 classes.\n",
      "<class 'keras.src.preprocessing.image.DataFrameIterator'>\n",
      "Valid data flow\n",
      "Found 25 validated image filenames belonging to 5 classes.\n",
      "Train data flow\n",
      "Found 768 validated image filenames belonging to 5 classes.\n",
      "<class 'keras.src.preprocessing.image.DataFrameIterator'>\n",
      "Epoch 1/5\n",
      "24/24 [==============================] - ETA: 0s - loss: 9.6694 - accuracy: 0.1992"
     ]
    },
    {
     "name": "stderr",
     "output_type": "stream",
     "text": [
      "d:\\ML Projects\\mlvenv\\Lib\\site-packages\\keras\\src\\engine\\training.py:3079: UserWarning: You are saving your model as an HDF5 file via `model.save()`. This file format is considered legacy. We recommend using instead the native Keras format, e.g. `model.save('my_model.keras')`.\n",
      "  saving_api.save_model(\n"
     ]
    },
    {
     "name": "stdout",
     "output_type": "stream",
     "text": [
      "24/24 [==============================] - 30s 960ms/step - loss: 9.6694 - accuracy: 0.1992 - val_loss: 11.5670 - val_accuracy: 0.2000\n",
      "Epoch 2/5\n",
      "24/24 [==============================] - 21s 883ms/step - loss: 8.6327 - accuracy: 0.2109 - val_loss: 9.1187 - val_accuracy: 0.2000\n",
      "Epoch 3/5\n",
      "24/24 [==============================] - 22s 923ms/step - loss: 8.1944 - accuracy: 0.2044 - val_loss: 8.2629 - val_accuracy: 0.2000\n",
      "Epoch 4/5\n",
      "24/24 [==============================] - 22s 904ms/step - loss: 7.8527 - accuracy: 0.2096 - val_loss: 8.1000 - val_accuracy: 0.2000\n",
      "Epoch 5/5\n",
      "24/24 [==============================] - 21s 881ms/step - loss: 7.4705 - accuracy: 0.1810 - val_loss: 7.2925 - val_accuracy: 0.2000\n"
     ]
    }
   ],
   "source": [
    "try:\n",
    "    config = ConfigurationManager()\n",
    "    prepare_callbacks_config = config.get_prepare_callback_config()\n",
    "    prepare_callbacks = PrepareCallback(config=prepare_callbacks_config)\n",
    "    callback_list = prepare_callbacks.get_tb_ckpt_callbacks()\n",
    "    print(callback_list)\n",
    "\n",
    "    training_config = config.get_training_config()\n",
    "    training = Training(config=training_config)\n",
    "    training.get_base_model()\n",
    "    training.train_valid_generator()\n",
    "    training.train(\n",
    "        callback_list=callback_list\n",
    "    )\n",
    "    \n",
    "except Exception as e:\n",
    "    raise e"
   ]
  },
  {
   "cell_type": "code",
   "execution_count": null,
   "metadata": {},
   "outputs": [],
   "source": []
  }
 ],
 "metadata": {
  "kernelspec": {
   "display_name": "mlvenv",
   "language": "python",
   "name": "python3"
  },
  "language_info": {
   "codemirror_mode": {
    "name": "ipython",
    "version": 3
   },
   "file_extension": ".py",
   "mimetype": "text/x-python",
   "name": "python",
   "nbconvert_exporter": "python",
   "pygments_lexer": "ipython3",
   "version": "3.11.4"
  }
 },
 "nbformat": 4,
 "nbformat_minor": 2
}
