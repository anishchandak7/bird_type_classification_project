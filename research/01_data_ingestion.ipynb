{
 "cells": [
  {
   "cell_type": "markdown",
   "metadata": {},
   "source": [
    "## 1. Data Ingestion"
   ]
  },
  {
   "cell_type": "code",
   "execution_count": 1,
   "metadata": {},
   "outputs": [],
   "source": [
    "# Import necessary libraries.\n",
    "import os"
   ]
  },
  {
   "cell_type": "code",
   "execution_count": 2,
   "metadata": {},
   "outputs": [
    {
     "data": {
      "text/plain": [
       "'d:\\\\ML Projects\\\\bird_type_classification_project\\\\research'"
      ]
     },
     "execution_count": 2,
     "metadata": {},
     "output_type": "execute_result"
    }
   ],
   "source": [
    "%pwd"
   ]
  },
  {
   "cell_type": "code",
   "execution_count": 3,
   "metadata": {},
   "outputs": [],
   "source": [
    "# Move outside of notebook folder to project parent folder i.e. bird_type_classification_project\n",
    "os.chdir('../')"
   ]
  },
  {
   "cell_type": "code",
   "execution_count": 4,
   "metadata": {},
   "outputs": [
    {
     "data": {
      "text/plain": [
       "'d:\\\\ML Projects\\\\bird_type_classification_project'"
      ]
     },
     "execution_count": 4,
     "metadata": {},
     "output_type": "execute_result"
    }
   ],
   "source": [
    "# Check the current folder path.\n",
    "%pwd"
   ]
  },
  {
   "cell_type": "code",
   "execution_count": 5,
   "metadata": {},
   "outputs": [],
   "source": [
    "# Code for entity\n",
    "from dataclasses import dataclass\n",
    "from pathlib import Path\n",
    "\n",
    "@dataclass(frozen=True)\n",
    "class DataIngestionConfig:\n",
    "    \"\"\"This class will help in reading configurations from config.yaml file for data ingestion step.\"\"\"\n",
    "    root_dir: Path\n",
    "    source_url: str\n",
    "    local_data_file: Path\n",
    "    unzip_dir: Path\n"
   ]
  },
  {
   "cell_type": "code",
   "execution_count": 18,
   "metadata": {},
   "outputs": [],
   "source": [
    "# Code for configuration \n",
    "from cnnClassifier.constants import CONFIG_FILE_PATH, PARAMS_FILE_PATH\n",
    "from cnnClassifier.utils.common import read_yaml, create_directories\n",
    "\n",
    "class ConfigurationManager:\n",
    "\n",
    "    def __init__(self, \n",
    "                 config_file_path = CONFIG_FILE_PATH, \n",
    "                 params_file_path = PARAMS_FILE_PATH) -> None:\n",
    "        \n",
    "        self.config = read_yaml(config_file_path)\n",
    "        # self.params = read_yaml(params_file_path)\n",
    "        # self.secrets = read_yaml(secrets_file_path)\n",
    "\n",
    "        create_directories([self.config.artifacts_root])\n",
    "\n",
    "    def get_data_ingestion_config(self) -> DataIngestionConfig:\n",
    "        \"\"\"Encasulates data ingestion configurations from config.yaml file and return as DataIngestionConfig object.\"\"\"\n",
    "        data_ingestion_config = self.config.data_ingestion\n",
    "\n",
    "        # Create data ingestion folder inside artifacts.\n",
    "        create_directories([data_ingestion_config.root_dir])\n",
    "\n",
    "        # Encasulates the configurations and return it as DataIngestionConfig object.\n",
    "        return DataIngestionConfig(root_dir=data_ingestion_config.root_dir,\n",
    "                            source_URL=data_ingestion_config.source_url,\n",
    "                            local_data_file=data_ingestion_config.local_data_file,\n",
    "                            unzip_dir=data_ingestion_config.unzip_dir)\n",
    "    "
   ]
  },
  {
   "cell_type": "code",
   "execution_count": 16,
   "metadata": {},
   "outputs": [
    {
     "name": "stdout",
     "output_type": "stream",
     "text": [
      "[18-Nov-23 15:29:11: INFO: common: Created directory at: .kaggle]\n"
     ]
    }
   ],
   "source": [
    "create_directories(['.kaggle'])"
   ]
  },
  {
   "cell_type": "code",
   "execution_count": 62,
   "metadata": {},
   "outputs": [],
   "source": [
    "# Code for component\n",
    "os.environ['KAGGLE_CONFIG_DIR'] = os.path.join(os.getcwd(), '.kaggle')\n",
    "import kaggle\n",
    "from cnnClassifier import logger\n",
    "\n",
    "class DataIngestion:\n",
    "    \n",
    "    def __init__(self, ingestion_config: DataIngestionConfig):\n",
    "        self.ingestion_config = ingestion_config\n",
    "    \n",
    "    def download_data(self):\n",
    "        \"\"\"Downloads the data from Kaggle\"\"\"\n",
    "\n",
    "        # Authentication using kaggle.json\n",
    "        kaggle.api.authenticate()\n",
    "        logger.info(\"Kaggle Authentication successful.\")\n",
    "\n",
    "        # Download the dataset.\n",
    "        logger.info(\"Downloading data from kaggle...\")\n",
    "        kaggle.api.dataset_download_files(self.ingestion_config.source_url, \n",
    "                                          self.ingestion_config.unzip_dir,\n",
    "                                          unzip=True)\n",
    "        logger.info('%s dataset downloaded and saved at %s', \n",
    "                    self.ingestion_config.source_URL, self.ingestion_config.root_dir)\n",
    "    "
   ]
  },
  {
   "cell_type": "code",
   "execution_count": 63,
   "metadata": {},
   "outputs": [
    {
     "name": "stdout",
     "output_type": "stream",
     "text": [
      "[18-Nov-23 17:12:35: INFO: common: config\\config.yaml loaded successfully.]\n",
      "[18-Nov-23 17:12:35: INFO: common: Created directory at: artifacts]\n",
      "[18-Nov-23 17:12:35: INFO: common: Created directory at: artifacts/data_ingestion]\n",
      "[18-Nov-23 17:12:35: INFO: 2766737115: Kaggle Authentication successful.]\n",
      "[18-Nov-23 17:12:35: INFO: 2766737115: Downloading data from kaggle...]\n",
      "[18-Nov-23 17:17:04: INFO: 2766737115: gpiosenka/100-bird-species dataset downloaded and saved at artifacts/data_ingestion]\n"
     ]
    }
   ],
   "source": [
    "# Code for Pipeline\n",
    "config = ConfigurationManager()\n",
    "data_ingestion_config = config.get_data_ingestion_config()\n",
    "data_ingestion = DataIngestion(ingestion_config=data_ingestion_config)\n",
    "data_ingestion.download_data()"
   ]
  },
  {
   "cell_type": "code",
   "execution_count": null,
   "metadata": {},
   "outputs": [],
   "source": []
  }
 ],
 "metadata": {
  "kernelspec": {
   "display_name": "mlvenv",
   "language": "python",
   "name": "python3"
  },
  "language_info": {
   "codemirror_mode": {
    "name": "ipython",
    "version": 3
   },
   "file_extension": ".py",
   "mimetype": "text/x-python",
   "name": "python",
   "nbconvert_exporter": "python",
   "pygments_lexer": "ipython3",
   "version": "3.11.4"
  }
 },
 "nbformat": 4,
 "nbformat_minor": 2
}
